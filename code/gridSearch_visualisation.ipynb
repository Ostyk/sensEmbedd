{
 "cells": [
  {
   "cell_type": "code",
   "execution_count": null,
   "metadata": {},
   "outputs": [],
   "source": [
    "import pandas as pd    \n",
    "import json\n",
    "import seaborn as sns\n",
    "import numpy as np\n",
    "import itertools\n",
    "import matplotlib.pyplot as plt\n",
    "import seaborn as sns\n",
    "plt.rcParams['text.usetex']=True\n",
    "plt.rcParams['text.latex.unicode']=True\n",
    "params = {'legend.fontsize': 'x-large',\n",
    "          'figure.figsize': (15, 5),\n",
    "         'axes.labelsize': 'x-large',\n",
    "         'axes.titlesize':'x-large',\n",
    "         'xtick.labelsize':'x-large',\n",
    "         'ytick.labelsize':'x-large'}\n",
    "from grid_search import senseEmbeddings"
   ]
  },
  {
   "cell_type": "code",
   "execution_count": null,
   "metadata": {},
   "outputs": [],
   "source": [
    "def gridSearchVisulisation(json_file = \"../resources/gridSearch7.json\" , save_path = \"../report/img/grid.pdf\"):   \n",
    "    '''function that visulazes the grid search\n",
    "    args: json_file - data of hyperparameters and the correlation score\n",
    "          save_path - destination path to save plot\n",
    "    returns: subplots of swarmplots\n",
    "    '''\n",
    "    #load data\n",
    "    with open(json_file, 'r') as f:\n",
    "        data = json.load(f)\n",
    "\n",
    "    score = pd.DataFrame(data).sort_values(by='correlation:', ascending = False)\n",
    "    score = score.drop(['epochs', 'negative'], axis=1)\n",
    "    size = score.shape[1]\n",
    "    score = score.rename(columns={'min_count': 'min count', 'correlation:': 'correlation'})\n",
    "    q = np.concatenate((np.arange(size-2),np.arange(size-2)))\n",
    "    d = score.drop(['correlation'],axis=1)\n",
    "    \n",
    "    f, axes = plt.subplots(size-2, size-1, figsize=(20,10), squeeze=True, sharey=True)\n",
    "\n",
    "    for c_ind, column_to_drop in enumerate(list(d.columns)):\n",
    "        data_ = d.drop(column_to_drop,axis=1)\n",
    "        for index, val in enumerate(list(data_.columns)):\n",
    "            a = sns.swarmplot(data = score,\n",
    "                             x = column_to_drop,\n",
    "                             y = 'correlation',\n",
    "                           hue = val,\n",
    "                            ax = axes[index, c_ind],\n",
    "                             size = 10)\n",
    "            if c_ind!=0:\n",
    "                a.get_yaxis().set_visible(False)\n",
    "            a.tick_params(labelsize=20)\n",
    "            a.set_ylabel('correlation', fontsize=20)\n",
    "            a.set_xlabel(column_to_drop, fontsize=20)\n",
    "\n",
    "    plt.subplots_adjust(hspace=0, wspace=0)\n",
    "    plt.savefig(save_path, bbox_inches = \"tight\")\n",
    "\n",
    "gridSearchVisulisation()"
   ]
  },
  {
   "cell_type": "code",
   "execution_count": null,
   "metadata": {},
   "outputs": [],
   "source": [
    "def annotationsHistogram(file):\n",
    "    '''creates a histogram of annorations per sentence'''\n",
    "    \n",
    "    x = np.loadtxt(file)\n",
    "    plt.figure(figsize=(12,5))\n",
    "    plt.hist(x, bins = 200)\n",
    "    plt.xlabel(\"Number of annotations\")\n",
    "    plt.ylabel(\"Occurences\")\n",
    "    plt.title(\"Annotations in a sentence\")\n",
    "    plt.show()\n",
    "annotationsHistogram(file = '../resources/parsed_corpora_annotations_final.txt')"
   ]
  }
 ],
 "metadata": {
  "kernelspec": {
   "display_name": "Python 3",
   "language": "python",
   "name": "python3"
  },
  "language_info": {
   "codemirror_mode": {
    "name": "ipython",
    "version": 3
   },
   "file_extension": ".py",
   "mimetype": "text/x-python",
   "name": "python",
   "nbconvert_exporter": "python",
   "pygments_lexer": "ipython3",
   "version": "3.6.4"
  }
 },
 "nbformat": 4,
 "nbformat_minor": 2
}
